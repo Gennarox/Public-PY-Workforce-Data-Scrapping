{
 "cells": [
  {
   "cell_type": "markdown",
   "id": "63ece5a4-f621-433f-8630-daf2cafd0b5a",
   "metadata": {},
   "source": [
    "### Utilización de WebDriver para extraer HTML de web con javascript."
   ]
  },
  {
   "cell_type": "code",
   "execution_count": 1,
   "id": "e4e19d5f-aa9e-4a39-a33b-50bcb2e13c74",
   "metadata": {},
   "outputs": [],
   "source": [
    "from selenium import webdriver\n",
    "from bs4 import BeautifulSoup\n",
    "from selenium.webdriver.support.ui import Select\n",
    "from datetime import datetime\n",
    "from dateutil.relativedelta import relativedelta\n",
    "import requests\n",
    "import zipfile\n",
    "import os"
   ]
  },
  {
   "cell_type": "code",
   "execution_count": null,
   "id": "270fc598-c8fd-46c7-a5de-a22e6ac48343",
   "metadata": {
    "tags": []
   },
   "outputs": [],
   "source": [
    "%%time\n",
    "url=\"https://datos.sfp.gov.py/data/funcionarios/download\"\n",
    "\n",
    "driver = webdriver.Chrome()\n",
    "driver.get(url)"
   ]
  },
  {
   "cell_type": "code",
   "execution_count": 3,
   "id": "be3ca9ca-9210-47f8-a5a6-7abb00bc1854",
   "metadata": {},
   "outputs": [
    {
     "name": "stdout",
     "output_type": "stream",
     "text": [
      "Wall time: 165 ms\n"
     ]
    }
   ],
   "source": [
    "%%time\n",
    "cantidad_registros = 36\n",
    "select_element = Select(driver.find_element('name','listado_length'))\n",
    "select_element.select_by_visible_text(f\"{cantidad_registros}\")\n",
    "\n",
    "driver.implicitly_wait(10)"
   ]
  },
  {
   "cell_type": "markdown",
   "id": "de2b278d-fdf9-49f3-be5f-53bf065d943b",
   "metadata": {},
   "source": [
    "### WebScrapping de html - Automatización de descarga de excels 1"
   ]
  },
  {
   "cell_type": "code",
   "execution_count": 4,
   "id": "bab75fd5-5895-4380-98fa-db847f63a12e",
   "metadata": {},
   "outputs": [
    {
     "name": "stdout",
     "output_type": "stream",
     "text": [
      "Wall time: 227 ms\n"
     ]
    }
   ],
   "source": [
    "%%time\n",
    "html = driver.page_source\n",
    "driver.close()\n",
    "\n",
    "soup = BeautifulSoup(html)"
   ]
  },
  {
   "cell_type": "code",
   "execution_count": 5,
   "id": "28af7a3a-e85d-4aca-a778-04c1e0c4cb11",
   "metadata": {
    "tags": []
   },
   "outputs": [
    {
     "name": "stdout",
     "output_type": "stream",
     "text": [
      "Cantidad de archivos .csv.zip ubicados en html: 36\n",
      "Wall time: 8 ms\n"
     ]
    }
   ],
   "source": [
    "%%time\n",
    "prefijo_archivos = '/data/funcionarios_'\n",
    "prefijo_para_descarga = 'https://datos.sfp.gov.py'\n",
    "sufijo_archivos = '.csv.zip'\n",
    "\n",
    "enlaces = [prefijo_para_descarga + link['href'] \n",
    "           for link in soup.find_all('a', href=True) \n",
    "           if link['href'].startswith(prefijo_archivos) and link['href'][-8:]==sufijo_archivos]\n",
    "\n",
    "print(f'Cantidad de archivos {sufijo_archivos} ubicados en html: ' + str(len(enlaces)))"
   ]
  },
  {
   "cell_type": "code",
   "execution_count": 6,
   "id": "c2316b35-1d28-4e70-a38d-ce6a7b841682",
   "metadata": {},
   "outputs": [
    {
     "name": "stdout",
     "output_type": "stream",
     "text": [
      "Se descargarán los archivos de los meses:\n",
      "('2023_6', '2023_5', '2022_6')\n",
      "Wall time: 0 ns\n"
     ]
    }
   ],
   "source": [
    "%%time\n",
    "fecha_mes_cerrado = datetime.now() - relativedelta(months=1)\n",
    "fecha_mom = datetime.now() - relativedelta(months=2)\n",
    "fecha_yoy = datetime.now() - relativedelta(months=13)\n",
    "\n",
    "#Variables para renombre de archivos \n",
    "anho_mes_act = str(fecha_mes_cerrado.year)+'_'+str(fecha_mes_cerrado.month)\n",
    "anho_mes_mom = str(fecha_mom.year)+'_'+str(fecha_mom.month)\n",
    "anho_mes_yoy = str(fecha_yoy.year)+'_'+str(fecha_yoy.month)\n",
    "\n",
    "#Variables que determina cuales archivos (segun el anho_mes) se descargaran del listado de la web\n",
    "anho_mes = (str(fecha_mes_cerrado.year)+'_'+str(fecha_mes_cerrado.month),\n",
    "            str(fecha_mom.year)+'_'+str(fecha_mom.month),\n",
    "            str(fecha_yoy.year)+'_'+str(fecha_yoy.month))\n",
    "anho_mes_a_descargar = tuple([anhomes + sufijo_archivos for anhomes in anho_mes])\n",
    "print('Se descargarán los archivos de los meses:')\n",
    "print(anho_mes)"
   ]
  },
  {
   "cell_type": "code",
   "execution_count": 7,
   "id": "38f486d0-426c-401e-a8f5-f031acc8a019",
   "metadata": {},
   "outputs": [
    {
     "name": "stdout",
     "output_type": "stream",
     "text": [
      "funcionarios_2023_6.csv.zip descargado con éxito.\n",
      "funcionarios_2023_5.csv.zip descargado con éxito.\n",
      "funcionarios_2022_6.csv.zip descargado con éxito.\n",
      "Wall time: 13.3 s\n"
     ]
    }
   ],
   "source": [
    "%%time\n",
    "ruta_descarga = 'C:\\\\Users\\\\HUAWEI\\\\Desktop\\\\Python_Projects\\\\WebScrapping_data\\\\Secretaria_Funcion_Publica_PY\\\\'\n",
    "\n",
    "for enlace in enlaces:\n",
    "    nombre_archivo = enlace.split('/')[-1]\n",
    "    \n",
    "    if nombre_archivo.endswith(anho_mes_a_descargar):\n",
    "        respuesta = requests.get(enlace)\n",
    "\n",
    "        if respuesta.status_code == 200: \n",
    "            with open(ruta_descarga + nombre_archivo, 'wb') as archivo_local:\n",
    "                archivo_local.write(respuesta.content)\n",
    "            print(f\"{nombre_archivo} descargado con éxito.\")\n",
    "        else:\n",
    "            print(f\"¡Error en descarga!!! Archivo: {nombre_archivo}. Código de estado: {respuesta.status_code}\")\n",
    "    #else:\n",
    "        #print(f\"No descargado: {nombre_archivo}.\")"
   ]
  },
  {
   "cell_type": "markdown",
   "id": "7d3ad849-7c2e-45b6-953e-a4faef183b55",
   "metadata": {},
   "source": [
    "### Descomprimimos los ZIPs para mandarlos a SQL Server proximamente"
   ]
  },
  {
   "cell_type": "code",
   "execution_count": 8,
   "id": "21c9a4fa-a759-4f04-b622-2a2076c79e49",
   "metadata": {},
   "outputs": [
    {
     "name": "stdout",
     "output_type": "stream",
     "text": [
      "Wall time: 6.64 s\n"
     ]
    }
   ],
   "source": [
    "%%time\n",
    "\n",
    "ruta_destino = 'C:\\\\Users\\\\HUAWEI\\\\Desktop\\\\Python_Projects\\\\WebScrapping_data\\\\Secretaria_Funcion_Publica_PY\\\\'\n",
    "prefijo_archivo = 'funcionarios_'\n",
    "\n",
    "for archivo_zip in os.listdir(ruta_destino):\n",
    "    if archivo_zip.endswith('.zip'):\n",
    "        with zipfile.ZipFile(os.path.join(ruta_destino, archivo_zip), 'r') as zip_ref:\n",
    "            # Extraer todos los archivos del ZIP en una lista\n",
    "            archivos_zip = zip_ref.namelist()\n",
    "            \n",
    "            # Buscar archivos con sufijo funcionarios_aaaa_mm.csv y renombrar si coincide con las variables\n",
    "            for archivo_csv in archivos_zip:\n",
    "                if archivo_csv.endswith('.csv'):\n",
    "                    nombre_archivo_csv = os.path.basename(archivo_csv)\n",
    "                    anho_mes_csv = \"_\".join((nombre_archivo_csv.split(\".\")[0]).split(\"_\")[1:])\n",
    "    \n",
    "                    if anho_mes_csv == anho_mes_act:\n",
    "                        nuevo_nombre = f'{prefijo_archivo}actual'\n",
    "                    elif anho_mes_csv == anho_mes_mom:\n",
    "                        nuevo_nombre = f'{prefijo_archivo}MoM'\n",
    "                    elif anho_mes_csv == anho_mes_yoy:\n",
    "                        nuevo_nombre = f'{prefijo_archivo}YoY'\n",
    "                    else:\n",
    "                        # Si no coincide con ninguna variable, no se renombra\n",
    "                        continue\n",
    "                    \n",
    "                    # Renombrar el archivo dentro del ZIP\n",
    "                    zip_ref.extract(archivo_csv, ruta_destino)\n",
    "                    os.rename(os.path.join(ruta_destino, archivo_csv), os.path.join(ruta_destino, f'{nuevo_nombre}.csv'))\n",
    "        os.remove(os.path.join(ruta_destino, archivo_zip))"
   ]
  }
 ],
 "metadata": {
  "kernelspec": {
   "display_name": "Python 3 (ipykernel)",
   "language": "python",
   "name": "python3"
  },
  "language_info": {
   "codemirror_mode": {
    "name": "ipython",
    "version": 3
   },
   "file_extension": ".py",
   "mimetype": "text/x-python",
   "name": "python",
   "nbconvert_exporter": "python",
   "pygments_lexer": "ipython3",
   "version": "3.9.13"
  }
 },
 "nbformat": 4,
 "nbformat_minor": 5
}
