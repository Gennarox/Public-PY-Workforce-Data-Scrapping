{
 "cells": [
  {
   "cell_type": "markdown",
   "id": "dcb4afb6-c393-469a-af4a-53bb8a86fe7d",
   "metadata": {},
   "source": [
    "### Exportación de datos a SQL Server"
   ]
  },
  {
   "cell_type": "code",
   "execution_count": 1,
   "id": "b06fa29c-7006-42e7-9f3e-eeb533b24092",
   "metadata": {},
   "outputs": [
    {
     "name": "stdout",
     "output_type": "stream",
     "text": [
      "La tabla funcionarios_actual fue creada exitosamente.\n",
      "La tabla funcionarios_MoM fue creada exitosamente.\n",
      "La tabla funcionarios_YoY fue creada exitosamente.\n",
      "Wall time: 18.6 s\n"
     ]
    }
   ],
   "source": [
    "%%time\n",
    "%run Funciones.ipynb\n",
    "create_tables_csv_in_sql()"
   ]
  },
  {
   "cell_type": "code",
   "execution_count": 2,
   "id": "ea7653f6-4fff-4d33-ae06-21f00afbf23a",
   "metadata": {},
   "outputs": [
    {
     "name": "stdout",
     "output_type": "stream",
     "text": [
      "Vuelta n° 1 duró 898.7731199264526 segundos. Archivo insertado: funcionarios_actual. Chunksize 500000.\n",
      "Memoria del df (chunk) insertado: 124.000128  megabytes.\n",
      "Vuelta n° 2 duró 458.03679633140564 segundos. Archivo insertado: funcionarios_actual. Chunksize 500000.\n",
      "Memoria del df (chunk) insertado: 55.289996  megabytes.\n",
      "Vuelta n° 1 duró 837.4559390544891 segundos. Archivo insertado: funcionarios_MoM. Chunksize 500000.\n",
      "Memoria del df (chunk) insertado: 124.000128  megabytes.\n",
      "Vuelta n° 2 duró 771.2550609111786 segundos. Archivo insertado: funcionarios_MoM. Chunksize 500000.\n",
      "Memoria del df (chunk) insertado: 116.33346  megabytes.\n",
      "Vuelta n° 1 duró 743.7470355033875 segundos. Archivo insertado: funcionarios_YoY. Chunksize 500000.\n",
      "Memoria del df (chunk) insertado: 124.000128  megabytes.\n",
      "Vuelta n° 2 duró 763.0816876888275 segundos. Archivo insertado: funcionarios_YoY. Chunksize 500000.\n",
      "Memoria del df (chunk) insertado: 110.488596  megabytes.\n",
      "Wall time: 1h 15min 16s\n"
     ]
    }
   ],
   "source": [
    "%%time\n",
    "%run Funciones.ipynb\n",
    "chunksize = 500000\n",
    "load_csv_insert_sql(chunksize)\n",
    "\n",
    "# 15 mins max. por chunk de 500k\n",
    "# Primera vuelta: 1 hora 30 mins\n",
    "# Segunda vuelta: 2 horas. 1 25 mins "
   ]
  },
  {
   "cell_type": "code",
   "execution_count": null,
   "id": "ed141022-ad19-4698-86f4-39cd9344de2b",
   "metadata": {},
   "outputs": [],
   "source": []
  }
 ],
 "metadata": {
  "kernelspec": {
   "display_name": "Python 3 (ipykernel)",
   "language": "python",
   "name": "python3"
  },
  "language_info": {
   "codemirror_mode": {
    "name": "ipython",
    "version": 3
   },
   "file_extension": ".py",
   "mimetype": "text/x-python",
   "name": "python",
   "nbconvert_exporter": "python",
   "pygments_lexer": "ipython3",
   "version": "3.9.13"
  }
 },
 "nbformat": 4,
 "nbformat_minor": 5
}
